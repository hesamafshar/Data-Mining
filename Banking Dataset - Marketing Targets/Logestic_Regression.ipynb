{
 "cells": [
  {
   "cell_type": "markdown",
   "id": "0cf67169",
   "metadata": {},
   "source": [
    "## Importing Libraries"
   ]
  },
  {
   "cell_type": "code",
   "execution_count": 1,
   "id": "3a402be2",
   "metadata": {
    "scrolled": true
   },
   "outputs": [],
   "source": [
    "# general libraries\n",
    "import pandas as pd\n",
    "import numpy as np\n",
    "import matplotlib.pyplot as plt\n",
    "\n",
    "# for logestic regression and confusion matrix\n",
    "from sklearn.linear_model import LogisticRegressionCV\n",
    "from sklearn.metrics import confusion_matrix,ConfusionMatrixDisplay,classification_report\n",
    "from sklearn.metrics import RocCurveDisplay\n",
    "\n",
    "# for estimate nan values\n",
    "from sklearn.experimental import enable_iterative_imputer\n",
    "from sklearn.impute import IterativeImputer,SimpleImputer,KNNImputer\n",
    "from sklearn.pipeline import Pipeline\n",
    "from sklearn.compose import ColumnTransformer\n",
    "from sklearn.tree import DecisionTreeClassifier\n",
    "from sklearn.linear_model import LogisticRegression"
   ]
  },
  {
   "cell_type": "markdown",
   "id": "46dd43b4",
   "metadata": {},
   "source": [
    "## Importing Data"
   ]
  },
  {
   "cell_type": "code",
   "execution_count": 2,
   "id": "5742ddc0",
   "metadata": {
    "scrolled": false
   },
   "outputs": [
    {
     "data": {
      "text/html": [
       "<div>\n",
       "<style scoped>\n",
       "    .dataframe tbody tr th:only-of-type {\n",
       "        vertical-align: middle;\n",
       "    }\n",
       "\n",
       "    .dataframe tbody tr th {\n",
       "        vertical-align: top;\n",
       "    }\n",
       "\n",
       "    .dataframe thead th {\n",
       "        text-align: right;\n",
       "    }\n",
       "</style>\n",
       "<table border=\"1\" class=\"dataframe\">\n",
       "  <thead>\n",
       "    <tr style=\"text-align: right;\">\n",
       "      <th></th>\n",
       "      <th>age</th>\n",
       "      <th>job</th>\n",
       "      <th>marital</th>\n",
       "      <th>education</th>\n",
       "      <th>default</th>\n",
       "      <th>balance</th>\n",
       "      <th>housing</th>\n",
       "      <th>loan</th>\n",
       "      <th>contact</th>\n",
       "      <th>day</th>\n",
       "      <th>month</th>\n",
       "      <th>duration</th>\n",
       "      <th>campaign</th>\n",
       "      <th>pdays</th>\n",
       "      <th>previous</th>\n",
       "      <th>poutcome</th>\n",
       "      <th>y</th>\n",
       "    </tr>\n",
       "  </thead>\n",
       "  <tbody>\n",
       "    <tr>\n",
       "      <th>0</th>\n",
       "      <td>58.0</td>\n",
       "      <td>management</td>\n",
       "      <td>married</td>\n",
       "      <td>tertiary</td>\n",
       "      <td>no</td>\n",
       "      <td>2143.0</td>\n",
       "      <td>yes</td>\n",
       "      <td>no</td>\n",
       "      <td>unknown</td>\n",
       "      <td>5.0</td>\n",
       "      <td>may</td>\n",
       "      <td>261.0</td>\n",
       "      <td>1.0</td>\n",
       "      <td>-1.0</td>\n",
       "      <td>NaN</td>\n",
       "      <td>unknown</td>\n",
       "      <td>no</td>\n",
       "    </tr>\n",
       "    <tr>\n",
       "      <th>1</th>\n",
       "      <td>44.0</td>\n",
       "      <td>technician</td>\n",
       "      <td>single</td>\n",
       "      <td>secondary</td>\n",
       "      <td>no</td>\n",
       "      <td>NaN</td>\n",
       "      <td>yes</td>\n",
       "      <td>no</td>\n",
       "      <td>unknown</td>\n",
       "      <td>5.0</td>\n",
       "      <td>may</td>\n",
       "      <td>151.0</td>\n",
       "      <td>1.0</td>\n",
       "      <td>-1.0</td>\n",
       "      <td>0.0</td>\n",
       "      <td>unknown</td>\n",
       "      <td>NaN</td>\n",
       "    </tr>\n",
       "    <tr>\n",
       "      <th>2</th>\n",
       "      <td>33.0</td>\n",
       "      <td>entrepreneur</td>\n",
       "      <td>married</td>\n",
       "      <td>secondary</td>\n",
       "      <td>no</td>\n",
       "      <td>2.0</td>\n",
       "      <td>NaN</td>\n",
       "      <td>yes</td>\n",
       "      <td>unknown</td>\n",
       "      <td>5.0</td>\n",
       "      <td>may</td>\n",
       "      <td>76.0</td>\n",
       "      <td>1.0</td>\n",
       "      <td>-1.0</td>\n",
       "      <td>0.0</td>\n",
       "      <td>unknown</td>\n",
       "      <td>no</td>\n",
       "    </tr>\n",
       "    <tr>\n",
       "      <th>3</th>\n",
       "      <td>47.0</td>\n",
       "      <td>blue-collar</td>\n",
       "      <td>married</td>\n",
       "      <td>unknown</td>\n",
       "      <td>NaN</td>\n",
       "      <td>1506.0</td>\n",
       "      <td>yes</td>\n",
       "      <td>no</td>\n",
       "      <td>unknown</td>\n",
       "      <td>5.0</td>\n",
       "      <td>may</td>\n",
       "      <td>92.0</td>\n",
       "      <td>1.0</td>\n",
       "      <td>-1.0</td>\n",
       "      <td>0.0</td>\n",
       "      <td>unknown</td>\n",
       "      <td>no</td>\n",
       "    </tr>\n",
       "    <tr>\n",
       "      <th>4</th>\n",
       "      <td>33.0</td>\n",
       "      <td>unknown</td>\n",
       "      <td>single</td>\n",
       "      <td>unknown</td>\n",
       "      <td>no</td>\n",
       "      <td>1.0</td>\n",
       "      <td>no</td>\n",
       "      <td>no</td>\n",
       "      <td>unknown</td>\n",
       "      <td>5.0</td>\n",
       "      <td>NaN</td>\n",
       "      <td>198.0</td>\n",
       "      <td>1.0</td>\n",
       "      <td>-1.0</td>\n",
       "      <td>NaN</td>\n",
       "      <td>unknown</td>\n",
       "      <td>no</td>\n",
       "    </tr>\n",
       "  </tbody>\n",
       "</table>\n",
       "</div>"
      ],
      "text/plain": [
       "    age           job  marital  education default  balance housing loan  \\\n",
       "0  58.0    management  married   tertiary      no   2143.0     yes   no   \n",
       "1  44.0    technician   single  secondary      no      NaN     yes   no   \n",
       "2  33.0  entrepreneur  married  secondary      no      2.0     NaN  yes   \n",
       "3  47.0   blue-collar  married    unknown     NaN   1506.0     yes   no   \n",
       "4  33.0       unknown   single    unknown      no      1.0      no   no   \n",
       "\n",
       "   contact  day month  duration  campaign  pdays  previous poutcome    y  \n",
       "0  unknown  5.0   may     261.0       1.0   -1.0       NaN  unknown   no  \n",
       "1  unknown  5.0   may     151.0       1.0   -1.0       0.0  unknown  NaN  \n",
       "2  unknown  5.0   may      76.0       1.0   -1.0       0.0  unknown   no  \n",
       "3  unknown  5.0   may      92.0       1.0   -1.0       0.0  unknown   no  \n",
       "4  unknown  5.0   NaN     198.0       1.0   -1.0       NaN  unknown   no  "
      ]
     },
     "metadata": {},
     "output_type": "display_data"
    }
   ],
   "source": [
    "data=pd.read_csv('Banking Dataset - Marketing Targets.csv')\n",
    "display(data.head())"
   ]
  },
  {
   "cell_type": "markdown",
   "id": "662f9c81",
   "metadata": {},
   "source": [
    "## Checking NaN values"
   ]
  },
  {
   "cell_type": "code",
   "execution_count": 3,
   "id": "51cd01c2",
   "metadata": {},
   "outputs": [
    {
     "data": {
      "text/html": [
       "<div>\n",
       "<style scoped>\n",
       "    .dataframe tbody tr th:only-of-type {\n",
       "        vertical-align: middle;\n",
       "    }\n",
       "\n",
       "    .dataframe tbody tr th {\n",
       "        vertical-align: top;\n",
       "    }\n",
       "\n",
       "    .dataframe thead th {\n",
       "        text-align: right;\n",
       "    }\n",
       "</style>\n",
       "<table border=\"1\" class=\"dataframe\">\n",
       "  <thead>\n",
       "    <tr style=\"text-align: right;\">\n",
       "      <th></th>\n",
       "      <th>age</th>\n",
       "      <th>job</th>\n",
       "      <th>marital</th>\n",
       "      <th>education</th>\n",
       "      <th>default</th>\n",
       "      <th>balance</th>\n",
       "      <th>housing</th>\n",
       "      <th>loan</th>\n",
       "      <th>contact</th>\n",
       "      <th>day</th>\n",
       "      <th>month</th>\n",
       "      <th>duration</th>\n",
       "      <th>campaign</th>\n",
       "      <th>pdays</th>\n",
       "      <th>previous</th>\n",
       "      <th>poutcome</th>\n",
       "      <th>y</th>\n",
       "    </tr>\n",
       "  </thead>\n",
       "  <tbody>\n",
       "    <tr>\n",
       "      <th>NaN</th>\n",
       "      <td>4592</td>\n",
       "      <td>4520</td>\n",
       "      <td>4460</td>\n",
       "      <td>4541</td>\n",
       "      <td>4569</td>\n",
       "      <td>4581</td>\n",
       "      <td>4490</td>\n",
       "      <td>4545</td>\n",
       "      <td>4562</td>\n",
       "      <td>4597</td>\n",
       "      <td>4551</td>\n",
       "      <td>4547</td>\n",
       "      <td>4530</td>\n",
       "      <td>4484</td>\n",
       "      <td>4530</td>\n",
       "      <td>4516</td>\n",
       "      <td>4584</td>\n",
       "    </tr>\n",
       "  </tbody>\n",
       "</table>\n",
       "</div>"
      ],
      "text/plain": [
       "      age   job  marital  education  default  balance  housing  loan  contact  \\\n",
       "NaN  4592  4520     4460       4541     4569     4581     4490  4545     4562   \n",
       "\n",
       "      day  month  duration  campaign  pdays  previous  poutcome     y  \n",
       "NaN  4597   4551      4547      4530   4484      4530      4516  4584  "
      ]
     },
     "execution_count": 3,
     "metadata": {},
     "output_type": "execute_result"
    }
   ],
   "source": [
    "NaSum=pd.DataFrame(data.isna().sum())\n",
    "NaSum.columns=['NaN']\n",
    "NaSum.transpose()"
   ]
  },
  {
   "cell_type": "markdown",
   "id": "be380be4",
   "metadata": {},
   "source": [
    "## Convert categories data to numeric "
   ]
  },
  {
   "cell_type": "code",
   "execution_count": 4,
   "id": "1fcf9fdd",
   "metadata": {
    "scrolled": false
   },
   "outputs": [
    {
     "data": {
      "text/html": [
       "<style type=\"text/css\">\n",
       "</style>\n",
       "<table id=\"T_46d7e\">\n",
       "  <thead>\n",
       "    <tr>\n",
       "      <th id=\"T_46d7e_level0_col0\" class=\"col_heading level0 col0\" >job</th>\n",
       "      <th id=\"T_46d7e_level0_col1\" class=\"col_heading level0 col1\" >numeric</th>\n",
       "    </tr>\n",
       "  </thead>\n",
       "  <tbody>\n",
       "    <tr>\n",
       "      <td id=\"T_46d7e_row0_col0\" class=\"data row0 col0\" >management</td>\n",
       "      <td id=\"T_46d7e_row0_col1\" class=\"data row0 col1\" >0</td>\n",
       "    </tr>\n",
       "    <tr>\n",
       "      <td id=\"T_46d7e_row1_col0\" class=\"data row1 col0\" >technician</td>\n",
       "      <td id=\"T_46d7e_row1_col1\" class=\"data row1 col1\" >1</td>\n",
       "    </tr>\n",
       "    <tr>\n",
       "      <td id=\"T_46d7e_row2_col0\" class=\"data row2 col0\" >entrepreneur</td>\n",
       "      <td id=\"T_46d7e_row2_col1\" class=\"data row2 col1\" >2</td>\n",
       "    </tr>\n",
       "    <tr>\n",
       "      <td id=\"T_46d7e_row3_col0\" class=\"data row3 col0\" >blue-collar</td>\n",
       "      <td id=\"T_46d7e_row3_col1\" class=\"data row3 col1\" >3</td>\n",
       "    </tr>\n",
       "    <tr>\n",
       "      <td id=\"T_46d7e_row4_col0\" class=\"data row4 col0\" >unknown</td>\n",
       "      <td id=\"T_46d7e_row4_col1\" class=\"data row4 col1\" >4</td>\n",
       "    </tr>\n",
       "    <tr>\n",
       "      <td id=\"T_46d7e_row5_col0\" class=\"data row5 col0\" >retired</td>\n",
       "      <td id=\"T_46d7e_row5_col1\" class=\"data row5 col1\" >5</td>\n",
       "    </tr>\n",
       "    <tr>\n",
       "      <td id=\"T_46d7e_row6_col0\" class=\"data row6 col0\" >admin.</td>\n",
       "      <td id=\"T_46d7e_row6_col1\" class=\"data row6 col1\" >6</td>\n",
       "    </tr>\n",
       "    <tr>\n",
       "      <td id=\"T_46d7e_row7_col0\" class=\"data row7 col0\" >services</td>\n",
       "      <td id=\"T_46d7e_row7_col1\" class=\"data row7 col1\" >7</td>\n",
       "    </tr>\n",
       "    <tr>\n",
       "      <td id=\"T_46d7e_row8_col0\" class=\"data row8 col0\" >self-employed</td>\n",
       "      <td id=\"T_46d7e_row8_col1\" class=\"data row8 col1\" >8</td>\n",
       "    </tr>\n",
       "    <tr>\n",
       "      <td id=\"T_46d7e_row9_col0\" class=\"data row9 col0\" >unemployed</td>\n",
       "      <td id=\"T_46d7e_row9_col1\" class=\"data row9 col1\" >9</td>\n",
       "    </tr>\n",
       "    <tr>\n",
       "      <td id=\"T_46d7e_row10_col0\" class=\"data row10 col0\" >housemaid</td>\n",
       "      <td id=\"T_46d7e_row10_col1\" class=\"data row10 col1\" >10</td>\n",
       "    </tr>\n",
       "    <tr>\n",
       "      <td id=\"T_46d7e_row11_col0\" class=\"data row11 col0\" >student</td>\n",
       "      <td id=\"T_46d7e_row11_col1\" class=\"data row11 col1\" >11</td>\n",
       "    </tr>\n",
       "  </tbody>\n",
       "</table>\n"
      ],
      "text/plain": [
       "<pandas.io.formats.style.Styler at 0x1cae097cbe0>"
      ]
     },
     "metadata": {},
     "output_type": "display_data"
    },
    {
     "data": {
      "text/html": [
       "<style type=\"text/css\">\n",
       "</style>\n",
       "<table id=\"T_a30a8\">\n",
       "  <thead>\n",
       "    <tr>\n",
       "      <th id=\"T_a30a8_level0_col0\" class=\"col_heading level0 col0\" >marital</th>\n",
       "      <th id=\"T_a30a8_level0_col1\" class=\"col_heading level0 col1\" >numeric</th>\n",
       "    </tr>\n",
       "  </thead>\n",
       "  <tbody>\n",
       "    <tr>\n",
       "      <td id=\"T_a30a8_row0_col0\" class=\"data row0 col0\" >married</td>\n",
       "      <td id=\"T_a30a8_row0_col1\" class=\"data row0 col1\" >0</td>\n",
       "    </tr>\n",
       "    <tr>\n",
       "      <td id=\"T_a30a8_row1_col0\" class=\"data row1 col0\" >single</td>\n",
       "      <td id=\"T_a30a8_row1_col1\" class=\"data row1 col1\" >1</td>\n",
       "    </tr>\n",
       "    <tr>\n",
       "      <td id=\"T_a30a8_row2_col0\" class=\"data row2 col0\" >divorced</td>\n",
       "      <td id=\"T_a30a8_row2_col1\" class=\"data row2 col1\" >2</td>\n",
       "    </tr>\n",
       "  </tbody>\n",
       "</table>\n"
      ],
      "text/plain": [
       "<pandas.io.formats.style.Styler at 0x1cae6c8a730>"
      ]
     },
     "metadata": {},
     "output_type": "display_data"
    },
    {
     "data": {
      "text/html": [
       "<style type=\"text/css\">\n",
       "</style>\n",
       "<table id=\"T_7ec17\">\n",
       "  <thead>\n",
       "    <tr>\n",
       "      <th id=\"T_7ec17_level0_col0\" class=\"col_heading level0 col0\" >education</th>\n",
       "      <th id=\"T_7ec17_level0_col1\" class=\"col_heading level0 col1\" >numeric</th>\n",
       "    </tr>\n",
       "  </thead>\n",
       "  <tbody>\n",
       "    <tr>\n",
       "      <td id=\"T_7ec17_row0_col0\" class=\"data row0 col0\" >tertiary</td>\n",
       "      <td id=\"T_7ec17_row0_col1\" class=\"data row0 col1\" >0</td>\n",
       "    </tr>\n",
       "    <tr>\n",
       "      <td id=\"T_7ec17_row1_col0\" class=\"data row1 col0\" >secondary</td>\n",
       "      <td id=\"T_7ec17_row1_col1\" class=\"data row1 col1\" >1</td>\n",
       "    </tr>\n",
       "    <tr>\n",
       "      <td id=\"T_7ec17_row2_col0\" class=\"data row2 col0\" >unknown</td>\n",
       "      <td id=\"T_7ec17_row2_col1\" class=\"data row2 col1\" >2</td>\n",
       "    </tr>\n",
       "    <tr>\n",
       "      <td id=\"T_7ec17_row3_col0\" class=\"data row3 col0\" >primary</td>\n",
       "      <td id=\"T_7ec17_row3_col1\" class=\"data row3 col1\" >3</td>\n",
       "    </tr>\n",
       "  </tbody>\n",
       "</table>\n"
      ],
      "text/plain": [
       "<pandas.io.formats.style.Styler at 0x1cae6d65220>"
      ]
     },
     "metadata": {},
     "output_type": "display_data"
    },
    {
     "data": {
      "text/html": [
       "<style type=\"text/css\">\n",
       "</style>\n",
       "<table id=\"T_e3f4e\">\n",
       "  <thead>\n",
       "    <tr>\n",
       "      <th id=\"T_e3f4e_level0_col0\" class=\"col_heading level0 col0\" >default</th>\n",
       "      <th id=\"T_e3f4e_level0_col1\" class=\"col_heading level0 col1\" >numeric</th>\n",
       "    </tr>\n",
       "  </thead>\n",
       "  <tbody>\n",
       "    <tr>\n",
       "      <td id=\"T_e3f4e_row0_col0\" class=\"data row0 col0\" >no</td>\n",
       "      <td id=\"T_e3f4e_row0_col1\" class=\"data row0 col1\" >0</td>\n",
       "    </tr>\n",
       "    <tr>\n",
       "      <td id=\"T_e3f4e_row1_col0\" class=\"data row1 col0\" >yes</td>\n",
       "      <td id=\"T_e3f4e_row1_col1\" class=\"data row1 col1\" >1</td>\n",
       "    </tr>\n",
       "  </tbody>\n",
       "</table>\n"
      ],
      "text/plain": [
       "<pandas.io.formats.style.Styler at 0x1cae6d653d0>"
      ]
     },
     "metadata": {},
     "output_type": "display_data"
    },
    {
     "data": {
      "text/html": [
       "<style type=\"text/css\">\n",
       "</style>\n",
       "<table id=\"T_bcd6c\">\n",
       "  <thead>\n",
       "    <tr>\n",
       "      <th id=\"T_bcd6c_level0_col0\" class=\"col_heading level0 col0\" >housing</th>\n",
       "      <th id=\"T_bcd6c_level0_col1\" class=\"col_heading level0 col1\" >numeric</th>\n",
       "    </tr>\n",
       "  </thead>\n",
       "  <tbody>\n",
       "    <tr>\n",
       "      <td id=\"T_bcd6c_row0_col0\" class=\"data row0 col0\" >yes</td>\n",
       "      <td id=\"T_bcd6c_row0_col1\" class=\"data row0 col1\" >0</td>\n",
       "    </tr>\n",
       "    <tr>\n",
       "      <td id=\"T_bcd6c_row1_col0\" class=\"data row1 col0\" >no</td>\n",
       "      <td id=\"T_bcd6c_row1_col1\" class=\"data row1 col1\" >1</td>\n",
       "    </tr>\n",
       "  </tbody>\n",
       "</table>\n"
      ],
      "text/plain": [
       "<pandas.io.formats.style.Styler at 0x1cae6d6c040>"
      ]
     },
     "metadata": {},
     "output_type": "display_data"
    },
    {
     "data": {
      "text/html": [
       "<style type=\"text/css\">\n",
       "</style>\n",
       "<table id=\"T_57047\">\n",
       "  <thead>\n",
       "    <tr>\n",
       "      <th id=\"T_57047_level0_col0\" class=\"col_heading level0 col0\" >loan</th>\n",
       "      <th id=\"T_57047_level0_col1\" class=\"col_heading level0 col1\" >numeric</th>\n",
       "    </tr>\n",
       "  </thead>\n",
       "  <tbody>\n",
       "    <tr>\n",
       "      <td id=\"T_57047_row0_col0\" class=\"data row0 col0\" >no</td>\n",
       "      <td id=\"T_57047_row0_col1\" class=\"data row0 col1\" >0</td>\n",
       "    </tr>\n",
       "    <tr>\n",
       "      <td id=\"T_57047_row1_col0\" class=\"data row1 col0\" >yes</td>\n",
       "      <td id=\"T_57047_row1_col1\" class=\"data row1 col1\" >1</td>\n",
       "    </tr>\n",
       "  </tbody>\n",
       "</table>\n"
      ],
      "text/plain": [
       "<pandas.io.formats.style.Styler at 0x1cae6f4ba90>"
      ]
     },
     "metadata": {},
     "output_type": "display_data"
    },
    {
     "data": {
      "text/html": [
       "<style type=\"text/css\">\n",
       "</style>\n",
       "<table id=\"T_f9e34\">\n",
       "  <thead>\n",
       "    <tr>\n",
       "      <th id=\"T_f9e34_level0_col0\" class=\"col_heading level0 col0\" >contact</th>\n",
       "      <th id=\"T_f9e34_level0_col1\" class=\"col_heading level0 col1\" >numeric</th>\n",
       "    </tr>\n",
       "  </thead>\n",
       "  <tbody>\n",
       "    <tr>\n",
       "      <td id=\"T_f9e34_row0_col0\" class=\"data row0 col0\" >unknown</td>\n",
       "      <td id=\"T_f9e34_row0_col1\" class=\"data row0 col1\" >0</td>\n",
       "    </tr>\n",
       "    <tr>\n",
       "      <td id=\"T_f9e34_row1_col0\" class=\"data row1 col0\" >cellular</td>\n",
       "      <td id=\"T_f9e34_row1_col1\" class=\"data row1 col1\" >1</td>\n",
       "    </tr>\n",
       "    <tr>\n",
       "      <td id=\"T_f9e34_row2_col0\" class=\"data row2 col0\" >telephone</td>\n",
       "      <td id=\"T_f9e34_row2_col1\" class=\"data row2 col1\" >2</td>\n",
       "    </tr>\n",
       "  </tbody>\n",
       "</table>\n"
      ],
      "text/plain": [
       "<pandas.io.formats.style.Styler at 0x1cae6f4b460>"
      ]
     },
     "metadata": {},
     "output_type": "display_data"
    },
    {
     "data": {
      "text/html": [
       "<style type=\"text/css\">\n",
       "</style>\n",
       "<table id=\"T_248f6\">\n",
       "  <thead>\n",
       "    <tr>\n",
       "      <th id=\"T_248f6_level0_col0\" class=\"col_heading level0 col0\" >month</th>\n",
       "      <th id=\"T_248f6_level0_col1\" class=\"col_heading level0 col1\" >numeric</th>\n",
       "    </tr>\n",
       "  </thead>\n",
       "  <tbody>\n",
       "    <tr>\n",
       "      <td id=\"T_248f6_row0_col0\" class=\"data row0 col0\" >may</td>\n",
       "      <td id=\"T_248f6_row0_col1\" class=\"data row0 col1\" >0</td>\n",
       "    </tr>\n",
       "    <tr>\n",
       "      <td id=\"T_248f6_row1_col0\" class=\"data row1 col0\" >jun</td>\n",
       "      <td id=\"T_248f6_row1_col1\" class=\"data row1 col1\" >1</td>\n",
       "    </tr>\n",
       "    <tr>\n",
       "      <td id=\"T_248f6_row2_col0\" class=\"data row2 col0\" >jul</td>\n",
       "      <td id=\"T_248f6_row2_col1\" class=\"data row2 col1\" >2</td>\n",
       "    </tr>\n",
       "    <tr>\n",
       "      <td id=\"T_248f6_row3_col0\" class=\"data row3 col0\" >aug</td>\n",
       "      <td id=\"T_248f6_row3_col1\" class=\"data row3 col1\" >3</td>\n",
       "    </tr>\n",
       "    <tr>\n",
       "      <td id=\"T_248f6_row4_col0\" class=\"data row4 col0\" >oct</td>\n",
       "      <td id=\"T_248f6_row4_col1\" class=\"data row4 col1\" >4</td>\n",
       "    </tr>\n",
       "    <tr>\n",
       "      <td id=\"T_248f6_row5_col0\" class=\"data row5 col0\" >nov</td>\n",
       "      <td id=\"T_248f6_row5_col1\" class=\"data row5 col1\" >5</td>\n",
       "    </tr>\n",
       "    <tr>\n",
       "      <td id=\"T_248f6_row6_col0\" class=\"data row6 col0\" >dec</td>\n",
       "      <td id=\"T_248f6_row6_col1\" class=\"data row6 col1\" >6</td>\n",
       "    </tr>\n",
       "    <tr>\n",
       "      <td id=\"T_248f6_row7_col0\" class=\"data row7 col0\" >jan</td>\n",
       "      <td id=\"T_248f6_row7_col1\" class=\"data row7 col1\" >7</td>\n",
       "    </tr>\n",
       "    <tr>\n",
       "      <td id=\"T_248f6_row8_col0\" class=\"data row8 col0\" >feb</td>\n",
       "      <td id=\"T_248f6_row8_col1\" class=\"data row8 col1\" >8</td>\n",
       "    </tr>\n",
       "    <tr>\n",
       "      <td id=\"T_248f6_row9_col0\" class=\"data row9 col0\" >mar</td>\n",
       "      <td id=\"T_248f6_row9_col1\" class=\"data row9 col1\" >9</td>\n",
       "    </tr>\n",
       "    <tr>\n",
       "      <td id=\"T_248f6_row10_col0\" class=\"data row10 col0\" >apr</td>\n",
       "      <td id=\"T_248f6_row10_col1\" class=\"data row10 col1\" >10</td>\n",
       "    </tr>\n",
       "    <tr>\n",
       "      <td id=\"T_248f6_row11_col0\" class=\"data row11 col0\" >sep</td>\n",
       "      <td id=\"T_248f6_row11_col1\" class=\"data row11 col1\" >11</td>\n",
       "    </tr>\n",
       "  </tbody>\n",
       "</table>\n"
      ],
      "text/plain": [
       "<pandas.io.formats.style.Styler at 0x1cae6f4bb80>"
      ]
     },
     "metadata": {},
     "output_type": "display_data"
    },
    {
     "data": {
      "text/html": [
       "<style type=\"text/css\">\n",
       "</style>\n",
       "<table id=\"T_55f68\">\n",
       "  <thead>\n",
       "    <tr>\n",
       "      <th id=\"T_55f68_level0_col0\" class=\"col_heading level0 col0\" >poutcome</th>\n",
       "      <th id=\"T_55f68_level0_col1\" class=\"col_heading level0 col1\" >numeric</th>\n",
       "    </tr>\n",
       "  </thead>\n",
       "  <tbody>\n",
       "    <tr>\n",
       "      <td id=\"T_55f68_row0_col0\" class=\"data row0 col0\" >unknown</td>\n",
       "      <td id=\"T_55f68_row0_col1\" class=\"data row0 col1\" >0</td>\n",
       "    </tr>\n",
       "    <tr>\n",
       "      <td id=\"T_55f68_row1_col0\" class=\"data row1 col0\" >failure</td>\n",
       "      <td id=\"T_55f68_row1_col1\" class=\"data row1 col1\" >1</td>\n",
       "    </tr>\n",
       "    <tr>\n",
       "      <td id=\"T_55f68_row2_col0\" class=\"data row2 col0\" >other</td>\n",
       "      <td id=\"T_55f68_row2_col1\" class=\"data row2 col1\" >2</td>\n",
       "    </tr>\n",
       "    <tr>\n",
       "      <td id=\"T_55f68_row3_col0\" class=\"data row3 col0\" >success</td>\n",
       "      <td id=\"T_55f68_row3_col1\" class=\"data row3 col1\" >3</td>\n",
       "    </tr>\n",
       "  </tbody>\n",
       "</table>\n"
      ],
      "text/plain": [
       "<pandas.io.formats.style.Styler at 0x1cae6f50760>"
      ]
     },
     "metadata": {},
     "output_type": "display_data"
    },
    {
     "data": {
      "text/html": [
       "<style type=\"text/css\">\n",
       "</style>\n",
       "<table id=\"T_160f6\">\n",
       "  <thead>\n",
       "    <tr>\n",
       "      <th id=\"T_160f6_level0_col0\" class=\"col_heading level0 col0\" >y</th>\n",
       "      <th id=\"T_160f6_level0_col1\" class=\"col_heading level0 col1\" >numeric</th>\n",
       "    </tr>\n",
       "  </thead>\n",
       "  <tbody>\n",
       "    <tr>\n",
       "      <td id=\"T_160f6_row0_col0\" class=\"data row0 col0\" >no</td>\n",
       "      <td id=\"T_160f6_row0_col1\" class=\"data row0 col1\" >0</td>\n",
       "    </tr>\n",
       "    <tr>\n",
       "      <td id=\"T_160f6_row1_col0\" class=\"data row1 col0\" >yes</td>\n",
       "      <td id=\"T_160f6_row1_col1\" class=\"data row1 col1\" >1</td>\n",
       "    </tr>\n",
       "  </tbody>\n",
       "</table>\n"
      ],
      "text/plain": [
       "<pandas.io.formats.style.Styler at 0x1cae6f4bb80>"
      ]
     },
     "metadata": {},
     "output_type": "display_data"
    },
    {
     "data": {
      "text/html": [
       "<div>\n",
       "<style scoped>\n",
       "    .dataframe tbody tr th:only-of-type {\n",
       "        vertical-align: middle;\n",
       "    }\n",
       "\n",
       "    .dataframe tbody tr th {\n",
       "        vertical-align: top;\n",
       "    }\n",
       "\n",
       "    .dataframe thead th {\n",
       "        text-align: right;\n",
       "    }\n",
       "</style>\n",
       "<table border=\"1\" class=\"dataframe\">\n",
       "  <thead>\n",
       "    <tr style=\"text-align: right;\">\n",
       "      <th></th>\n",
       "      <th>age</th>\n",
       "      <th>job</th>\n",
       "      <th>marital</th>\n",
       "      <th>education</th>\n",
       "      <th>default</th>\n",
       "      <th>balance</th>\n",
       "      <th>housing</th>\n",
       "      <th>loan</th>\n",
       "      <th>contact</th>\n",
       "      <th>day</th>\n",
       "      <th>month</th>\n",
       "      <th>duration</th>\n",
       "      <th>campaign</th>\n",
       "      <th>pdays</th>\n",
       "      <th>previous</th>\n",
       "      <th>poutcome</th>\n",
       "      <th>y</th>\n",
       "    </tr>\n",
       "  </thead>\n",
       "  <tbody>\n",
       "    <tr>\n",
       "      <th>0</th>\n",
       "      <td>58.0</td>\n",
       "      <td>0.0</td>\n",
       "      <td>0.0</td>\n",
       "      <td>0.0</td>\n",
       "      <td>0.0</td>\n",
       "      <td>2143.0</td>\n",
       "      <td>0.0</td>\n",
       "      <td>0.0</td>\n",
       "      <td>0.0</td>\n",
       "      <td>5.0</td>\n",
       "      <td>0.0</td>\n",
       "      <td>261.0</td>\n",
       "      <td>1.0</td>\n",
       "      <td>-1.0</td>\n",
       "      <td>NaN</td>\n",
       "      <td>0.0</td>\n",
       "      <td>0.0</td>\n",
       "    </tr>\n",
       "    <tr>\n",
       "      <th>1</th>\n",
       "      <td>44.0</td>\n",
       "      <td>1.0</td>\n",
       "      <td>1.0</td>\n",
       "      <td>1.0</td>\n",
       "      <td>0.0</td>\n",
       "      <td>NaN</td>\n",
       "      <td>0.0</td>\n",
       "      <td>0.0</td>\n",
       "      <td>0.0</td>\n",
       "      <td>5.0</td>\n",
       "      <td>0.0</td>\n",
       "      <td>151.0</td>\n",
       "      <td>1.0</td>\n",
       "      <td>-1.0</td>\n",
       "      <td>0.0</td>\n",
       "      <td>0.0</td>\n",
       "      <td>NaN</td>\n",
       "    </tr>\n",
       "    <tr>\n",
       "      <th>2</th>\n",
       "      <td>33.0</td>\n",
       "      <td>2.0</td>\n",
       "      <td>0.0</td>\n",
       "      <td>1.0</td>\n",
       "      <td>0.0</td>\n",
       "      <td>2.0</td>\n",
       "      <td>NaN</td>\n",
       "      <td>1.0</td>\n",
       "      <td>0.0</td>\n",
       "      <td>5.0</td>\n",
       "      <td>0.0</td>\n",
       "      <td>76.0</td>\n",
       "      <td>1.0</td>\n",
       "      <td>-1.0</td>\n",
       "      <td>0.0</td>\n",
       "      <td>0.0</td>\n",
       "      <td>0.0</td>\n",
       "    </tr>\n",
       "    <tr>\n",
       "      <th>3</th>\n",
       "      <td>47.0</td>\n",
       "      <td>3.0</td>\n",
       "      <td>0.0</td>\n",
       "      <td>2.0</td>\n",
       "      <td>NaN</td>\n",
       "      <td>1506.0</td>\n",
       "      <td>0.0</td>\n",
       "      <td>0.0</td>\n",
       "      <td>0.0</td>\n",
       "      <td>5.0</td>\n",
       "      <td>0.0</td>\n",
       "      <td>92.0</td>\n",
       "      <td>1.0</td>\n",
       "      <td>-1.0</td>\n",
       "      <td>0.0</td>\n",
       "      <td>0.0</td>\n",
       "      <td>0.0</td>\n",
       "    </tr>\n",
       "    <tr>\n",
       "      <th>4</th>\n",
       "      <td>33.0</td>\n",
       "      <td>4.0</td>\n",
       "      <td>1.0</td>\n",
       "      <td>2.0</td>\n",
       "      <td>0.0</td>\n",
       "      <td>1.0</td>\n",
       "      <td>1.0</td>\n",
       "      <td>0.0</td>\n",
       "      <td>0.0</td>\n",
       "      <td>5.0</td>\n",
       "      <td>NaN</td>\n",
       "      <td>198.0</td>\n",
       "      <td>1.0</td>\n",
       "      <td>-1.0</td>\n",
       "      <td>NaN</td>\n",
       "      <td>0.0</td>\n",
       "      <td>0.0</td>\n",
       "    </tr>\n",
       "  </tbody>\n",
       "</table>\n",
       "</div>"
      ],
      "text/plain": [
       "    age  job  marital  education  default  balance  housing  loan  contact  \\\n",
       "0  58.0  0.0      0.0        0.0      0.0   2143.0      0.0   0.0      0.0   \n",
       "1  44.0  1.0      1.0        1.0      0.0      NaN      0.0   0.0      0.0   \n",
       "2  33.0  2.0      0.0        1.0      0.0      2.0      NaN   1.0      0.0   \n",
       "3  47.0  3.0      0.0        2.0      NaN   1506.0      0.0   0.0      0.0   \n",
       "4  33.0  4.0      1.0        2.0      0.0      1.0      1.0   0.0      0.0   \n",
       "\n",
       "   day  month  duration  campaign  pdays  previous  poutcome    y  \n",
       "0  5.0    0.0     261.0       1.0   -1.0       NaN       0.0  0.0  \n",
       "1  5.0    0.0     151.0       1.0   -1.0       0.0       0.0  NaN  \n",
       "2  5.0    0.0      76.0       1.0   -1.0       0.0       0.0  0.0  \n",
       "3  5.0    0.0      92.0       1.0   -1.0       0.0       0.0  0.0  \n",
       "4  5.0    NaN     198.0       1.0   -1.0       NaN       0.0  0.0  "
      ]
     },
     "execution_count": 4,
     "metadata": {},
     "output_type": "execute_result"
    }
   ],
   "source": [
    "cols_to_category = [\"job\",\"marital\",\"education\",\"default\",\"housing\",\"loan\",\"contact\",\"month\",\"poutcome\",'y']\n",
    "\n",
    "# Numeric function for converting categories data to numeric value\n",
    "def Numeric(data,cols_to_category,NA=True):\n",
    "    for col in cols_to_category:\n",
    "        var=list(data[col].unique())\n",
    "        if NA==True:\n",
    "            var.remove(np.nan)\n",
    "        \n",
    "        ctg=[i for i in range(len(var))]\n",
    "        out=pd.DataFrame({col:var,'numeric':ctg})\n",
    "        display(out.style.hide(axis='index'))\n",
    "        data[col].replace(var,ctg,inplace=True)\n",
    "\n",
    "Numeric(data,cols_to_category)\n",
    "data.head()"
   ]
  },
  {
   "cell_type": "markdown",
   "id": "6e35dc27",
   "metadata": {},
   "source": [
    "## Estimation of NaN values"
   ]
  },
  {
   "cell_type": "code",
   "execution_count": 5,
   "id": "d8b8ad43",
   "metadata": {},
   "outputs": [
    {
     "name": "stderr",
     "output_type": "stream",
     "text": [
      "C:\\Users\\hesam\\anaconda3\\lib\\site-packages\\sklearn\\impute\\_iterative.py:785: ConvergenceWarning: [IterativeImputer] Early stopping criterion not reached.\n",
      "  warnings.warn(\n",
      "C:\\Users\\hesam\\anaconda3\\lib\\site-packages\\sklearn\\impute\\_iterative.py:785: ConvergenceWarning: [IterativeImputer] Early stopping criterion not reached.\n",
      "  warnings.warn(\n"
     ]
    }
   ],
   "source": [
    "numeric_transformer = Pipeline(steps=[\n",
    "   ('imputer', IterativeImputer()),\n",
    "])\n",
    "\n",
    "categorical_transformer = Pipeline(steps=[\n",
    "   ('imputer', IterativeImputer(estimator=DecisionTreeClassifier()))\n",
    "])\n",
    "preprocessor = ColumnTransformer(\n",
    "   transformers=[\n",
    "       ('categorical', categorical_transformer, ['age','job','marital','education','default']),\n",
    "       ('numeric1', numeric_transformer, ['balance']),\n",
    "       ('categorical1', categorical_transformer,['housing','loan','contact','day','month','duration','campaign','pdays','previous','poutcome','y']),\n",
    "       \n",
    "])\n",
    "impute = Pipeline(\n",
    "   steps=[\n",
    "       (\"processing\", preprocessor),\n",
    "       \n",
    "   ]\n",
    ")\n",
    "columns=data.columns\n",
    "data=pd.DataFrame(impute.fit_transform(data))\n",
    "data.columns=columns"
   ]
  },
  {
   "cell_type": "code",
   "execution_count": 6,
   "id": "2cce5268",
   "metadata": {
    "scrolled": false
   },
   "outputs": [
    {
     "data": {
      "text/html": [
       "<div>\n",
       "<style scoped>\n",
       "    .dataframe tbody tr th:only-of-type {\n",
       "        vertical-align: middle;\n",
       "    }\n",
       "\n",
       "    .dataframe tbody tr th {\n",
       "        vertical-align: top;\n",
       "    }\n",
       "\n",
       "    .dataframe thead th {\n",
       "        text-align: right;\n",
       "    }\n",
       "</style>\n",
       "<table border=\"1\" class=\"dataframe\">\n",
       "  <thead>\n",
       "    <tr style=\"text-align: right;\">\n",
       "      <th></th>\n",
       "      <th>age</th>\n",
       "      <th>job</th>\n",
       "      <th>marital</th>\n",
       "      <th>education</th>\n",
       "      <th>default</th>\n",
       "      <th>balance</th>\n",
       "      <th>housing</th>\n",
       "      <th>loan</th>\n",
       "      <th>contact</th>\n",
       "      <th>day</th>\n",
       "      <th>month</th>\n",
       "      <th>duration</th>\n",
       "      <th>campaign</th>\n",
       "      <th>pdays</th>\n",
       "      <th>previous</th>\n",
       "      <th>poutcome</th>\n",
       "      <th>y</th>\n",
       "    </tr>\n",
       "  </thead>\n",
       "  <tbody>\n",
       "    <tr>\n",
       "      <th>0</th>\n",
       "      <td>58.0</td>\n",
       "      <td>0.0</td>\n",
       "      <td>0.0</td>\n",
       "      <td>0.0</td>\n",
       "      <td>0.0</td>\n",
       "      <td>2143.000000</td>\n",
       "      <td>0.0</td>\n",
       "      <td>0.0</td>\n",
       "      <td>0.0</td>\n",
       "      <td>5.0</td>\n",
       "      <td>0.0</td>\n",
       "      <td>261.0</td>\n",
       "      <td>1.0</td>\n",
       "      <td>-1.0</td>\n",
       "      <td>0.0</td>\n",
       "      <td>0.0</td>\n",
       "      <td>0.0</td>\n",
       "    </tr>\n",
       "    <tr>\n",
       "      <th>1</th>\n",
       "      <td>44.0</td>\n",
       "      <td>1.0</td>\n",
       "      <td>1.0</td>\n",
       "      <td>1.0</td>\n",
       "      <td>0.0</td>\n",
       "      <td>1360.860891</td>\n",
       "      <td>0.0</td>\n",
       "      <td>0.0</td>\n",
       "      <td>0.0</td>\n",
       "      <td>5.0</td>\n",
       "      <td>0.0</td>\n",
       "      <td>151.0</td>\n",
       "      <td>1.0</td>\n",
       "      <td>-1.0</td>\n",
       "      <td>0.0</td>\n",
       "      <td>0.0</td>\n",
       "      <td>0.0</td>\n",
       "    </tr>\n",
       "    <tr>\n",
       "      <th>2</th>\n",
       "      <td>33.0</td>\n",
       "      <td>2.0</td>\n",
       "      <td>0.0</td>\n",
       "      <td>1.0</td>\n",
       "      <td>0.0</td>\n",
       "      <td>2.000000</td>\n",
       "      <td>0.0</td>\n",
       "      <td>1.0</td>\n",
       "      <td>0.0</td>\n",
       "      <td>5.0</td>\n",
       "      <td>0.0</td>\n",
       "      <td>76.0</td>\n",
       "      <td>1.0</td>\n",
       "      <td>-1.0</td>\n",
       "      <td>0.0</td>\n",
       "      <td>0.0</td>\n",
       "      <td>0.0</td>\n",
       "    </tr>\n",
       "    <tr>\n",
       "      <th>3</th>\n",
       "      <td>47.0</td>\n",
       "      <td>3.0</td>\n",
       "      <td>0.0</td>\n",
       "      <td>2.0</td>\n",
       "      <td>0.0</td>\n",
       "      <td>1506.000000</td>\n",
       "      <td>0.0</td>\n",
       "      <td>0.0</td>\n",
       "      <td>0.0</td>\n",
       "      <td>5.0</td>\n",
       "      <td>0.0</td>\n",
       "      <td>92.0</td>\n",
       "      <td>1.0</td>\n",
       "      <td>-1.0</td>\n",
       "      <td>0.0</td>\n",
       "      <td>0.0</td>\n",
       "      <td>0.0</td>\n",
       "    </tr>\n",
       "    <tr>\n",
       "      <th>4</th>\n",
       "      <td>33.0</td>\n",
       "      <td>4.0</td>\n",
       "      <td>1.0</td>\n",
       "      <td>2.0</td>\n",
       "      <td>0.0</td>\n",
       "      <td>1.000000</td>\n",
       "      <td>1.0</td>\n",
       "      <td>0.0</td>\n",
       "      <td>0.0</td>\n",
       "      <td>5.0</td>\n",
       "      <td>1.0</td>\n",
       "      <td>198.0</td>\n",
       "      <td>1.0</td>\n",
       "      <td>-1.0</td>\n",
       "      <td>0.0</td>\n",
       "      <td>0.0</td>\n",
       "      <td>0.0</td>\n",
       "    </tr>\n",
       "  </tbody>\n",
       "</table>\n",
       "</div>"
      ],
      "text/plain": [
       "    age  job  marital  education  default      balance  housing  loan  \\\n",
       "0  58.0  0.0      0.0        0.0      0.0  2143.000000      0.0   0.0   \n",
       "1  44.0  1.0      1.0        1.0      0.0  1360.860891      0.0   0.0   \n",
       "2  33.0  2.0      0.0        1.0      0.0     2.000000      0.0   1.0   \n",
       "3  47.0  3.0      0.0        2.0      0.0  1506.000000      0.0   0.0   \n",
       "4  33.0  4.0      1.0        2.0      0.0     1.000000      1.0   0.0   \n",
       "\n",
       "   contact  day  month  duration  campaign  pdays  previous  poutcome    y  \n",
       "0      0.0  5.0    0.0     261.0       1.0   -1.0       0.0       0.0  0.0  \n",
       "1      0.0  5.0    0.0     151.0       1.0   -1.0       0.0       0.0  0.0  \n",
       "2      0.0  5.0    0.0      76.0       1.0   -1.0       0.0       0.0  0.0  \n",
       "3      0.0  5.0    0.0      92.0       1.0   -1.0       0.0       0.0  0.0  \n",
       "4      0.0  5.0    1.0     198.0       1.0   -1.0       0.0       0.0  0.0  "
      ]
     },
     "execution_count": 6,
     "metadata": {},
     "output_type": "execute_result"
    }
   ],
   "source": [
    "data.head()"
   ]
  },
  {
   "cell_type": "markdown",
   "id": "77cf54eb",
   "metadata": {},
   "source": [
    "## Checking NaNs after estimation"
   ]
  },
  {
   "cell_type": "code",
   "execution_count": 7,
   "id": "014f301f",
   "metadata": {},
   "outputs": [
    {
     "data": {
      "text/html": [
       "<div>\n",
       "<style scoped>\n",
       "    .dataframe tbody tr th:only-of-type {\n",
       "        vertical-align: middle;\n",
       "    }\n",
       "\n",
       "    .dataframe tbody tr th {\n",
       "        vertical-align: top;\n",
       "    }\n",
       "\n",
       "    .dataframe thead th {\n",
       "        text-align: right;\n",
       "    }\n",
       "</style>\n",
       "<table border=\"1\" class=\"dataframe\">\n",
       "  <thead>\n",
       "    <tr style=\"text-align: right;\">\n",
       "      <th></th>\n",
       "      <th>age</th>\n",
       "      <th>job</th>\n",
       "      <th>marital</th>\n",
       "      <th>education</th>\n",
       "      <th>default</th>\n",
       "      <th>balance</th>\n",
       "      <th>housing</th>\n",
       "      <th>loan</th>\n",
       "      <th>contact</th>\n",
       "      <th>day</th>\n",
       "      <th>month</th>\n",
       "      <th>duration</th>\n",
       "      <th>campaign</th>\n",
       "      <th>pdays</th>\n",
       "      <th>previous</th>\n",
       "      <th>poutcome</th>\n",
       "      <th>y</th>\n",
       "    </tr>\n",
       "  </thead>\n",
       "  <tbody>\n",
       "    <tr>\n",
       "      <th>NaN</th>\n",
       "      <td>0</td>\n",
       "      <td>0</td>\n",
       "      <td>0</td>\n",
       "      <td>0</td>\n",
       "      <td>0</td>\n",
       "      <td>0</td>\n",
       "      <td>0</td>\n",
       "      <td>0</td>\n",
       "      <td>0</td>\n",
       "      <td>0</td>\n",
       "      <td>0</td>\n",
       "      <td>0</td>\n",
       "      <td>0</td>\n",
       "      <td>0</td>\n",
       "      <td>0</td>\n",
       "      <td>0</td>\n",
       "      <td>0</td>\n",
       "    </tr>\n",
       "  </tbody>\n",
       "</table>\n",
       "</div>"
      ],
      "text/plain": [
       "     age  job  marital  education  default  balance  housing  loan  contact  \\\n",
       "NaN    0    0        0          0        0        0        0     0        0   \n",
       "\n",
       "     day  month  duration  campaign  pdays  previous  poutcome  y  \n",
       "NaN    0      0         0         0      0         0         0  0  "
      ]
     },
     "execution_count": 7,
     "metadata": {},
     "output_type": "execute_result"
    }
   ],
   "source": [
    "NaSum=pd.DataFrame(data.isna().sum())\n",
    "NaSum.columns=['NaN']\n",
    "NaSum.transpose()"
   ]
  },
  {
   "cell_type": "markdown",
   "id": "249b1f8c",
   "metadata": {},
   "source": [
    "## Import Test and Train data"
   ]
  },
  {
   "cell_type": "code",
   "execution_count": 8,
   "id": "3c97d8d0",
   "metadata": {},
   "outputs": [],
   "source": [
    "train_data=pd.read_csv('Banking Dataset - Marketing Targets - Train.csv')\n",
    "test_data=pd.read_csv('Banking Dataset - Marketing Targets - Test.csv')"
   ]
  },
  {
   "cell_type": "markdown",
   "id": "c31380e0",
   "metadata": {},
   "source": [
    "## Modeling by train data"
   ]
  },
  {
   "cell_type": "code",
   "execution_count": 9,
   "id": "725e10b9",
   "metadata": {
    "scrolled": true
   },
   "outputs": [],
   "source": [
    "clf = LogisticRegressionCV(Cs=100,cv=10,scoring='f1' ,max_iter=2000\n",
    "                           ,random_state=0).fit( train_data[train_data.columns[:-1]],train_data['y'])"
   ]
  },
  {
   "cell_type": "code",
   "execution_count": 10,
   "id": "cec964e6",
   "metadata": {},
   "outputs": [
    {
     "data": {
      "text/html": [
       "<div>\n",
       "<style scoped>\n",
       "    .dataframe tbody tr th:only-of-type {\n",
       "        vertical-align: middle;\n",
       "    }\n",
       "\n",
       "    .dataframe tbody tr th {\n",
       "        vertical-align: top;\n",
       "    }\n",
       "\n",
       "    .dataframe thead th {\n",
       "        text-align: right;\n",
       "    }\n",
       "</style>\n",
       "<table border=\"1\" class=\"dataframe\">\n",
       "  <thead>\n",
       "    <tr style=\"text-align: right;\">\n",
       "      <th></th>\n",
       "      <th>coefficients</th>\n",
       "    </tr>\n",
       "  </thead>\n",
       "  <tbody>\n",
       "    <tr>\n",
       "      <th>age</th>\n",
       "      <td>-0.002571</td>\n",
       "    </tr>\n",
       "    <tr>\n",
       "      <th>job</th>\n",
       "      <td>0.014663</td>\n",
       "    </tr>\n",
       "    <tr>\n",
       "      <th>marital</th>\n",
       "      <td>0.104495</td>\n",
       "    </tr>\n",
       "    <tr>\n",
       "      <th>education</th>\n",
       "      <td>-0.130358</td>\n",
       "    </tr>\n",
       "    <tr>\n",
       "      <th>default</th>\n",
       "      <td>-0.022788</td>\n",
       "    </tr>\n",
       "    <tr>\n",
       "      <th>balance</th>\n",
       "      <td>0.000024</td>\n",
       "    </tr>\n",
       "    <tr>\n",
       "      <th>housing</th>\n",
       "      <td>0.751433</td>\n",
       "    </tr>\n",
       "    <tr>\n",
       "      <th>loan</th>\n",
       "      <td>-0.365828</td>\n",
       "    </tr>\n",
       "    <tr>\n",
       "      <th>contact</th>\n",
       "      <td>0.414127</td>\n",
       "    </tr>\n",
       "    <tr>\n",
       "      <th>day</th>\n",
       "      <td>-0.006016</td>\n",
       "    </tr>\n",
       "    <tr>\n",
       "      <th>month</th>\n",
       "      <td>0.079965</td>\n",
       "    </tr>\n",
       "    <tr>\n",
       "      <th>duration</th>\n",
       "      <td>0.003952</td>\n",
       "    </tr>\n",
       "    <tr>\n",
       "      <th>campaign</th>\n",
       "      <td>-0.124122</td>\n",
       "    </tr>\n",
       "    <tr>\n",
       "      <th>pdays</th>\n",
       "      <td>-0.002091</td>\n",
       "    </tr>\n",
       "    <tr>\n",
       "      <th>previous</th>\n",
       "      <td>-0.011159</td>\n",
       "    </tr>\n",
       "    <tr>\n",
       "      <th>poutcome</th>\n",
       "      <td>0.873726</td>\n",
       "    </tr>\n",
       "  </tbody>\n",
       "</table>\n",
       "</div>"
      ],
      "text/plain": [
       "           coefficients\n",
       "age           -0.002571\n",
       "job            0.014663\n",
       "marital        0.104495\n",
       "education     -0.130358\n",
       "default       -0.022788\n",
       "balance        0.000024\n",
       "housing        0.751433\n",
       "loan          -0.365828\n",
       "contact        0.414127\n",
       "day           -0.006016\n",
       "month          0.079965\n",
       "duration       0.003952\n",
       "campaign      -0.124122\n",
       "pdays         -0.002091\n",
       "previous      -0.011159\n",
       "poutcome       0.873726"
      ]
     },
     "execution_count": 10,
     "metadata": {},
     "output_type": "execute_result"
    }
   ],
   "source": [
    "pd.DataFrame({'coefficients':clf.coef_[0]}, index=list(train_data.columns[:-1]))"
   ]
  },
  {
   "cell_type": "code",
   "execution_count": 11,
   "id": "d10d7ee8",
   "metadata": {},
   "outputs": [
    {
     "data": {
      "text/plain": [
       "<sklearn.metrics._plot.roc_curve.RocCurveDisplay at 0x1cae6d682b0>"
      ]
     },
     "execution_count": 11,
     "metadata": {},
     "output_type": "execute_result"
    },
    {
     "data": {
      "image/png": "[encoded data removed]",
      "text/plain": [
       "<Figure size 640x480 with 1 Axes>"
      ]
     },
     "metadata": {},
     "output_type": "display_data"
    }
   ],
   "source": [
    "RocCurveDisplay.from_predictions(\n",
    "    np.array(train_data['y']), clf.predict_proba(train_data[train_data.columns[:-1]])[::,1],\n",
    "    color=\"darkorange\",\n",
    ")"
   ]
  },
  {
   "cell_type": "markdown",
   "id": "737c727e",
   "metadata": {},
   "source": [
    "## Display confusion matrix and metrics for train data\n"
   ]
  },
  {
   "cell_type": "code",
   "execution_count": 12,
   "id": "a5afc3e4",
   "metadata": {},
   "outputs": [],
   "source": [
    "y_true=train_data['y']\n",
    "y_pred=clf.predict(train_data[train_data.columns[:-1]])"
   ]
  },
  {
   "cell_type": "code",
   "execution_count": 13,
   "id": "50480751",
   "metadata": {},
   "outputs": [
    {
     "data": {
      "text/plain": [
       "<sklearn.metrics._plot.confusion_matrix.ConfusionMatrixDisplay at 0x1ca804e3280>"
      ]
     },
     "execution_count": 13,
     "metadata": {},
     "output_type": "execute_result"
    },
    {
     "data": {
      "image/png": "[encoded data removed]",
      "text/plain": [
       "<Figure size 640x480 with 2 Axes>"
      ]
     },
     "metadata": {},
     "output_type": "display_data"
    }
   ],
   "source": [
    "ConfusionMatrixDisplay(confusion_matrix(y_true, y_pred)).plot()\n"
   ]
  },
  {
   "cell_type": "code",
   "execution_count": 14,
   "id": "a98557fa",
   "metadata": {
    "scrolled": true
   },
   "outputs": [
    {
     "name": "stdout",
     "output_type": "stream",
     "text": [
      "              precision    recall  f1-score   support\n",
      "\n",
      "          No       0.91      0.98      0.94     35948\n",
      "         Yes       0.65      0.30      0.41      4741\n",
      "\n",
      "    accuracy                           0.90     40689\n",
      "   macro avg       0.78      0.64      0.68     40689\n",
      "weighted avg       0.88      0.90      0.88     40689\n",
      "\n"
     ]
    }
   ],
   "source": [
    "print(classification_report(y_true, y_pred, target_names=['No','Yes']))"
   ]
  },
  {
   "cell_type": "markdown",
   "id": "459040a6",
   "metadata": {},
   "source": [
    "## Display confusion matrix and metrics for test data\n"
   ]
  },
  {
   "cell_type": "code",
   "execution_count": 15,
   "id": "2883285b",
   "metadata": {},
   "outputs": [
    {
     "data": {
      "text/plain": [
       "<sklearn.metrics._plot.roc_curve.RocCurveDisplay at 0x1ca81943370>"
      ]
     },
     "execution_count": 15,
     "metadata": {},
     "output_type": "execute_result"
    },
    {
     "data": {
      "image/png": "[encoded data removed]",
      "text/plain": [
       "<Figure size 640x480 with 1 Axes>"
      ]
     },
     "metadata": {},
     "output_type": "display_data"
    }
   ],
   "source": [
    "RocCurveDisplay.from_predictions(\n",
    "    np.array(train_data['y']), clf.predict_proba(train_data[train_data.columns[:-1]])[::,1],\n",
    "    color=\"darkorange\",\n",
    ")"
   ]
  },
  {
   "cell_type": "code",
   "execution_count": 16,
   "id": "2501b533",
   "metadata": {},
   "outputs": [
    {
     "name": "stdout",
     "output_type": "stream",
     "text": [
      "              precision    recall  f1-score   support\n",
      "\n",
      "         0.0       0.90      0.97      0.94      3960\n",
      "         1.0       0.58      0.26      0.36       562\n",
      "\n",
      "    accuracy                           0.88      4522\n",
      "   macro avg       0.74      0.62      0.65      4522\n",
      "weighted avg       0.86      0.88      0.87      4522\n",
      "\n"
     ]
    }
   ],
   "source": [
    "y_pred=clf.predict(test_data[test_data.columns[:-1]])\n",
    "y_true=test_data['y']\n",
    "print(classification_report(y_true, y_pred))"
   ]
  },
  {
   "cell_type": "code",
   "execution_count": 17,
   "id": "83dc1048",
   "metadata": {},
   "outputs": [
    {
     "data": {
      "text/plain": [
       "<sklearn.metrics._plot.confusion_matrix.ConfusionMatrixDisplay at 0x1ca85d7ae20>"
      ]
     },
     "execution_count": 17,
     "metadata": {},
     "output_type": "execute_result"
    },
    {
     "data": {
      "image/png": "[encoded data removed]",
      "text/plain": [
       "<Figure size 640x480 with 2 Axes>"
      ]
     },
     "metadata": {},
     "output_type": "display_data"
    }
   ],
   "source": [
    "ConfusionMatrixDisplay(confusion_matrix(y_true, y_pred)).plot()"
   ]
  },
  {
   "cell_type": "code",
   "execution_count": null,
   "id": "35625e54",
   "metadata": {},
   "outputs": [],
   "source": []
  }
 ],
 "metadata": {
  "kernelspec": {
   "display_name": "Python 3 (ipykernel)",
   "language": "python",
   "name": "python3"
  },
  "language_info": {
   "codemirror_mode": {
    "name": "ipython",
    "version": 3
   },
   "file_extension": ".py",
   "mimetype": "text/x-python",
   "name": "python",
   "nbconvert_exporter": "python",
   "pygments_lexer": "ipython3",
   "version": "3.9.16"
  }
 },
 "nbformat": 4,
 "nbformat_minor": 5
}
